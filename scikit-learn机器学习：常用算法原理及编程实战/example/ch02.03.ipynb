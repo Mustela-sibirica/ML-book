{
 "cells": [
  {
   "cell_type": "code",
   "execution_count": 1,
   "metadata": {
    "collapsed": true
   },
   "outputs": [],
   "source": [
    "%matplotlib inline\n",
    "import pandas as pd\n",
    "import numpy as np\n",
    "import matplotlib.pyplot as plt"
   ]
  },
  {
   "cell_type": "code",
   "execution_count": 2,
   "metadata": {
    "collapsed": false
   },
   "outputs": [
    {
     "data": {
      "text/plain": [
       "0    4\n",
       "1    2\n",
       "2    5\n",
       "3    0\n",
       "4    6\n",
       "5    3\n",
       "dtype: int64"
      ]
     },
     "execution_count": 2,
     "metadata": {},
     "output_type": "execute_result"
    }
   ],
   "source": [
    "# Series 对象可以理解为一维数组\n",
    "s = pd.Series([4, 2, 5, 0, 6, 3])\n",
    "s"
   ]
  },
  {
   "cell_type": "code",
   "execution_count": 4,
   "metadata": {
    "collapsed": false
   },
   "outputs": [
    {
     "data": {
      "text/html": [
       "<div>\n",
       "<table border=\"1\" class=\"dataframe\">\n",
       "  <thead>\n",
       "    <tr style=\"text-align: right;\">\n",
       "      <th></th>\n",
       "      <th>A</th>\n",
       "      <th>B</th>\n",
       "      <th>C</th>\n",
       "      <th>D</th>\n",
       "    </tr>\n",
       "  </thead>\n",
       "  <tbody>\n",
       "    <tr>\n",
       "      <th>0</th>\n",
       "      <td>0.968762</td>\n",
       "      <td>1.501239</td>\n",
       "      <td>-0.284952</td>\n",
       "      <td>-0.456468</td>\n",
       "    </tr>\n",
       "    <tr>\n",
       "      <th>1</th>\n",
       "      <td>1.413471</td>\n",
       "      <td>-0.309746</td>\n",
       "      <td>0.407559</td>\n",
       "      <td>1.536548</td>\n",
       "    </tr>\n",
       "    <tr>\n",
       "      <th>2</th>\n",
       "      <td>-0.399065</td>\n",
       "      <td>-0.040439</td>\n",
       "      <td>1.339359</td>\n",
       "      <td>-0.318217</td>\n",
       "    </tr>\n",
       "    <tr>\n",
       "      <th>3</th>\n",
       "      <td>-0.152205</td>\n",
       "      <td>-0.121888</td>\n",
       "      <td>0.841658</td>\n",
       "      <td>-1.493958</td>\n",
       "    </tr>\n",
       "    <tr>\n",
       "      <th>4</th>\n",
       "      <td>0.248414</td>\n",
       "      <td>-0.676985</td>\n",
       "      <td>1.326487</td>\n",
       "      <td>-0.455541</td>\n",
       "    </tr>\n",
       "    <tr>\n",
       "      <th>5</th>\n",
       "      <td>0.906221</td>\n",
       "      <td>-2.158694</td>\n",
       "      <td>-0.201354</td>\n",
       "      <td>-0.024769</td>\n",
       "    </tr>\n",
       "  </tbody>\n",
       "</table>\n",
       "</div>"
      ],
      "text/plain": [
       "          A         B         C         D\n",
       "0  0.968762  1.501239 -0.284952 -0.456468\n",
       "1  1.413471 -0.309746  0.407559  1.536548\n",
       "2 -0.399065 -0.040439  1.339359 -0.318217\n",
       "3 -0.152205 -0.121888  0.841658 -1.493958\n",
       "4  0.248414 -0.676985  1.326487 -0.455541\n",
       "5  0.906221 -2.158694 -0.201354 -0.024769"
      ]
     },
     "execution_count": 4,
     "metadata": {},
     "output_type": "execute_result"
    }
   ],
   "source": [
    "# DataFrame 是二维数组对象\n",
    "df = pd.DataFrame(np.random.randn(6,4), columns=list('ABCD'))\n",
    "df"
   ]
  },
  {
   "cell_type": "code",
   "execution_count": 6,
   "metadata": {
    "collapsed": false
   },
   "outputs": [
    {
     "data": {
      "text/plain": [
       "A    0.968762\n",
       "B    1.501239\n",
       "C   -0.284952\n",
       "D   -0.456468\n",
       "Name: 0, dtype: float64"
      ]
     },
     "execution_count": 6,
     "metadata": {},
     "output_type": "execute_result"
    }
   ],
   "source": [
    "df.iloc[0]"
   ]
  },
  {
   "cell_type": "code",
   "execution_count": 7,
   "metadata": {
    "collapsed": false
   },
   "outputs": [
    {
     "data": {
      "text/plain": [
       "0    0.968762\n",
       "1    1.413471\n",
       "2   -0.399065\n",
       "3   -0.152205\n",
       "4    0.248414\n",
       "5    0.906221\n",
       "Name: A, dtype: float64"
      ]
     },
     "execution_count": 7,
     "metadata": {},
     "output_type": "execute_result"
    }
   ],
   "source": [
    "df.A"
   ]
  },
  {
   "cell_type": "code",
   "execution_count": 8,
   "metadata": {
    "collapsed": false
   },
   "outputs": [
    {
     "name": "stdout",
     "output_type": "stream",
     "text": [
      "Row data type: <class 'pandas.core.series.Series'>\n",
      "Column data type: <class 'pandas.core.series.Series'>\n"
     ]
    }
   ],
   "source": [
    "print(\"Row data type: {}\".format(type(df.iloc[0])))\n",
    "print(\"Column data type: {}\".format(type(df.A)))"
   ]
  },
  {
   "cell_type": "code",
   "execution_count": 9,
   "metadata": {
    "collapsed": false
   },
   "outputs": [
    {
     "data": {
      "text/plain": [
       "(6, 4)"
      ]
     },
     "execution_count": 9,
     "metadata": {},
     "output_type": "execute_result"
    }
   ],
   "source": [
    "df.shape"
   ]
  },
  {
   "cell_type": "code",
   "execution_count": 11,
   "metadata": {
    "collapsed": false
   },
   "outputs": [
    {
     "data": {
      "text/html": [
       "<div>\n",
       "<table border=\"1\" class=\"dataframe\">\n",
       "  <thead>\n",
       "    <tr style=\"text-align: right;\">\n",
       "      <th></th>\n",
       "      <th>A</th>\n",
       "      <th>B</th>\n",
       "      <th>C</th>\n",
       "      <th>D</th>\n",
       "    </tr>\n",
       "  </thead>\n",
       "  <tbody>\n",
       "    <tr>\n",
       "      <th>0</th>\n",
       "      <td>0.968762</td>\n",
       "      <td>1.501239</td>\n",
       "      <td>-0.284952</td>\n",
       "      <td>-0.456468</td>\n",
       "    </tr>\n",
       "    <tr>\n",
       "      <th>1</th>\n",
       "      <td>1.413471</td>\n",
       "      <td>-0.309746</td>\n",
       "      <td>0.407559</td>\n",
       "      <td>1.536548</td>\n",
       "    </tr>\n",
       "    <tr>\n",
       "      <th>2</th>\n",
       "      <td>-0.399065</td>\n",
       "      <td>-0.040439</td>\n",
       "      <td>1.339359</td>\n",
       "      <td>-0.318217</td>\n",
       "    </tr>\n",
       "  </tbody>\n",
       "</table>\n",
       "</div>"
      ],
      "text/plain": [
       "          A         B         C         D\n",
       "0  0.968762  1.501239 -0.284952 -0.456468\n",
       "1  1.413471 -0.309746  0.407559  1.536548\n",
       "2 -0.399065 -0.040439  1.339359 -0.318217"
      ]
     },
     "execution_count": 11,
     "metadata": {},
     "output_type": "execute_result"
    }
   ],
   "source": [
    "df.head(3)"
   ]
  },
  {
   "cell_type": "code",
   "execution_count": 12,
   "metadata": {
    "collapsed": false
   },
   "outputs": [
    {
     "data": {
      "text/html": [
       "<div>\n",
       "<table border=\"1\" class=\"dataframe\">\n",
       "  <thead>\n",
       "    <tr style=\"text-align: right;\">\n",
       "      <th></th>\n",
       "      <th>A</th>\n",
       "      <th>B</th>\n",
       "      <th>C</th>\n",
       "      <th>D</th>\n",
       "    </tr>\n",
       "  </thead>\n",
       "  <tbody>\n",
       "    <tr>\n",
       "      <th>4</th>\n",
       "      <td>0.248414</td>\n",
       "      <td>-0.676985</td>\n",
       "      <td>1.326487</td>\n",
       "      <td>-0.455541</td>\n",
       "    </tr>\n",
       "    <tr>\n",
       "      <th>5</th>\n",
       "      <td>0.906221</td>\n",
       "      <td>-2.158694</td>\n",
       "      <td>-0.201354</td>\n",
       "      <td>-0.024769</td>\n",
       "    </tr>\n",
       "  </tbody>\n",
       "</table>\n",
       "</div>"
      ],
      "text/plain": [
       "          A         B         C         D\n",
       "4  0.248414 -0.676985  1.326487 -0.455541\n",
       "5  0.906221 -2.158694 -0.201354 -0.024769"
      ]
     },
     "execution_count": 12,
     "metadata": {},
     "output_type": "execute_result"
    }
   ],
   "source": [
    "df.tail(2)"
   ]
  },
  {
   "cell_type": "code",
   "execution_count": 13,
   "metadata": {
    "collapsed": false
   },
   "outputs": [
    {
     "data": {
      "text/plain": [
       "Index([u'A', u'B', u'C', u'D'], dtype='object')"
      ]
     },
     "execution_count": 13,
     "metadata": {},
     "output_type": "execute_result"
    }
   ],
   "source": [
    "df.columns"
   ]
  },
  {
   "cell_type": "code",
   "execution_count": 14,
   "metadata": {
    "collapsed": false
   },
   "outputs": [
    {
     "data": {
      "text/plain": [
       "RangeIndex(start=0, stop=6, step=1)"
      ]
     },
     "execution_count": 14,
     "metadata": {},
     "output_type": "execute_result"
    }
   ],
   "source": [
    "df.index"
   ]
  },
  {
   "cell_type": "code",
   "execution_count": 15,
   "metadata": {
    "collapsed": false
   },
   "outputs": [
    {
     "data": {
      "text/html": [
       "<div>\n",
       "<table border=\"1\" class=\"dataframe\">\n",
       "  <thead>\n",
       "    <tr style=\"text-align: right;\">\n",
       "      <th></th>\n",
       "      <th>A</th>\n",
       "      <th>B</th>\n",
       "      <th>C</th>\n",
       "      <th>D</th>\n",
       "    </tr>\n",
       "  </thead>\n",
       "  <tbody>\n",
       "    <tr>\n",
       "      <th>count</th>\n",
       "      <td>6.000000</td>\n",
       "      <td>6.000000</td>\n",
       "      <td>6.000000</td>\n",
       "      <td>6.000000</td>\n",
       "    </tr>\n",
       "    <tr>\n",
       "      <th>mean</th>\n",
       "      <td>0.497600</td>\n",
       "      <td>-0.301086</td>\n",
       "      <td>0.571459</td>\n",
       "      <td>-0.202068</td>\n",
       "    </tr>\n",
       "    <tr>\n",
       "      <th>std</th>\n",
       "      <td>0.709385</td>\n",
       "      <td>1.178177</td>\n",
       "      <td>0.719762</td>\n",
       "      <td>0.986474</td>\n",
       "    </tr>\n",
       "    <tr>\n",
       "      <th>min</th>\n",
       "      <td>-0.399065</td>\n",
       "      <td>-2.158694</td>\n",
       "      <td>-0.284952</td>\n",
       "      <td>-1.493958</td>\n",
       "    </tr>\n",
       "    <tr>\n",
       "      <th>25%</th>\n",
       "      <td>-0.052050</td>\n",
       "      <td>-0.585176</td>\n",
       "      <td>-0.049126</td>\n",
       "      <td>-0.456236</td>\n",
       "    </tr>\n",
       "    <tr>\n",
       "      <th>50%</th>\n",
       "      <td>0.577317</td>\n",
       "      <td>-0.215817</td>\n",
       "      <td>0.624608</td>\n",
       "      <td>-0.386879</td>\n",
       "    </tr>\n",
       "    <tr>\n",
       "      <th>75%</th>\n",
       "      <td>0.953127</td>\n",
       "      <td>-0.060802</td>\n",
       "      <td>1.205280</td>\n",
       "      <td>-0.098131</td>\n",
       "    </tr>\n",
       "    <tr>\n",
       "      <th>max</th>\n",
       "      <td>1.413471</td>\n",
       "      <td>1.501239</td>\n",
       "      <td>1.339359</td>\n",
       "      <td>1.536548</td>\n",
       "    </tr>\n",
       "  </tbody>\n",
       "</table>\n",
       "</div>"
      ],
      "text/plain": [
       "              A         B         C         D\n",
       "count  6.000000  6.000000  6.000000  6.000000\n",
       "mean   0.497600 -0.301086  0.571459 -0.202068\n",
       "std    0.709385  1.178177  0.719762  0.986474\n",
       "min   -0.399065 -2.158694 -0.284952 -1.493958\n",
       "25%   -0.052050 -0.585176 -0.049126 -0.456236\n",
       "50%    0.577317 -0.215817  0.624608 -0.386879\n",
       "75%    0.953127 -0.060802  1.205280 -0.098131\n",
       "max    1.413471  1.501239  1.339359  1.536548"
      ]
     },
     "execution_count": 15,
     "metadata": {},
     "output_type": "execute_result"
    }
   ],
   "source": [
    "df.describe()"
   ]
  },
  {
   "cell_type": "code",
   "execution_count": 16,
   "metadata": {
    "collapsed": false
   },
   "outputs": [
    {
     "data": {
      "text/html": [
       "<div>\n",
       "<table border=\"1\" class=\"dataframe\">\n",
       "  <thead>\n",
       "    <tr style=\"text-align: right;\">\n",
       "      <th></th>\n",
       "      <th>D</th>\n",
       "      <th>C</th>\n",
       "      <th>B</th>\n",
       "      <th>A</th>\n",
       "    </tr>\n",
       "  </thead>\n",
       "  <tbody>\n",
       "    <tr>\n",
       "      <th>0</th>\n",
       "      <td>-0.456468</td>\n",
       "      <td>-0.284952</td>\n",
       "      <td>1.501239</td>\n",
       "      <td>0.968762</td>\n",
       "    </tr>\n",
       "    <tr>\n",
       "      <th>1</th>\n",
       "      <td>1.536548</td>\n",
       "      <td>0.407559</td>\n",
       "      <td>-0.309746</td>\n",
       "      <td>1.413471</td>\n",
       "    </tr>\n",
       "    <tr>\n",
       "      <th>2</th>\n",
       "      <td>-0.318217</td>\n",
       "      <td>1.339359</td>\n",
       "      <td>-0.040439</td>\n",
       "      <td>-0.399065</td>\n",
       "    </tr>\n",
       "    <tr>\n",
       "      <th>3</th>\n",
       "      <td>-1.493958</td>\n",
       "      <td>0.841658</td>\n",
       "      <td>-0.121888</td>\n",
       "      <td>-0.152205</td>\n",
       "    </tr>\n",
       "    <tr>\n",
       "      <th>4</th>\n",
       "      <td>-0.455541</td>\n",
       "      <td>1.326487</td>\n",
       "      <td>-0.676985</td>\n",
       "      <td>0.248414</td>\n",
       "    </tr>\n",
       "    <tr>\n",
       "      <th>5</th>\n",
       "      <td>-0.024769</td>\n",
       "      <td>-0.201354</td>\n",
       "      <td>-2.158694</td>\n",
       "      <td>0.906221</td>\n",
       "    </tr>\n",
       "  </tbody>\n",
       "</table>\n",
       "</div>"
      ],
      "text/plain": [
       "          D         C         B         A\n",
       "0 -0.456468 -0.284952  1.501239  0.968762\n",
       "1  1.536548  0.407559 -0.309746  1.413471\n",
       "2 -0.318217  1.339359 -0.040439 -0.399065\n",
       "3 -1.493958  0.841658 -0.121888 -0.152205\n",
       "4 -0.455541  1.326487 -0.676985  0.248414\n",
       "5 -0.024769 -0.201354 -2.158694  0.906221"
      ]
     },
     "execution_count": 16,
     "metadata": {},
     "output_type": "execute_result"
    }
   ],
   "source": [
    "df.sort_index(axis=1, ascending=False)"
   ]
  },
  {
   "cell_type": "code",
   "execution_count": 17,
   "metadata": {
    "collapsed": false
   },
   "outputs": [
    {
     "data": {
      "text/html": [
       "<div>\n",
       "<table border=\"1\" class=\"dataframe\">\n",
       "  <thead>\n",
       "    <tr style=\"text-align: right;\">\n",
       "      <th></th>\n",
       "      <th>A</th>\n",
       "      <th>B</th>\n",
       "      <th>C</th>\n",
       "      <th>D</th>\n",
       "    </tr>\n",
       "  </thead>\n",
       "  <tbody>\n",
       "    <tr>\n",
       "      <th>5</th>\n",
       "      <td>0.906221</td>\n",
       "      <td>-2.158694</td>\n",
       "      <td>-0.201354</td>\n",
       "      <td>-0.024769</td>\n",
       "    </tr>\n",
       "    <tr>\n",
       "      <th>4</th>\n",
       "      <td>0.248414</td>\n",
       "      <td>-0.676985</td>\n",
       "      <td>1.326487</td>\n",
       "      <td>-0.455541</td>\n",
       "    </tr>\n",
       "    <tr>\n",
       "      <th>1</th>\n",
       "      <td>1.413471</td>\n",
       "      <td>-0.309746</td>\n",
       "      <td>0.407559</td>\n",
       "      <td>1.536548</td>\n",
       "    </tr>\n",
       "    <tr>\n",
       "      <th>3</th>\n",
       "      <td>-0.152205</td>\n",
       "      <td>-0.121888</td>\n",
       "      <td>0.841658</td>\n",
       "      <td>-1.493958</td>\n",
       "    </tr>\n",
       "    <tr>\n",
       "      <th>2</th>\n",
       "      <td>-0.399065</td>\n",
       "      <td>-0.040439</td>\n",
       "      <td>1.339359</td>\n",
       "      <td>-0.318217</td>\n",
       "    </tr>\n",
       "    <tr>\n",
       "      <th>0</th>\n",
       "      <td>0.968762</td>\n",
       "      <td>1.501239</td>\n",
       "      <td>-0.284952</td>\n",
       "      <td>-0.456468</td>\n",
       "    </tr>\n",
       "  </tbody>\n",
       "</table>\n",
       "</div>"
      ],
      "text/plain": [
       "          A         B         C         D\n",
       "5  0.906221 -2.158694 -0.201354 -0.024769\n",
       "4  0.248414 -0.676985  1.326487 -0.455541\n",
       "1  1.413471 -0.309746  0.407559  1.536548\n",
       "3 -0.152205 -0.121888  0.841658 -1.493958\n",
       "2 -0.399065 -0.040439  1.339359 -0.318217\n",
       "0  0.968762  1.501239 -0.284952 -0.456468"
      ]
     },
     "execution_count": 17,
     "metadata": {},
     "output_type": "execute_result"
    }
   ],
   "source": [
    "df.sort_values(by='B')"
   ]
  },
  {
   "cell_type": "code",
   "execution_count": 18,
   "metadata": {
    "collapsed": false
   },
   "outputs": [
    {
     "data": {
      "text/html": [
       "<div>\n",
       "<table border=\"1\" class=\"dataframe\">\n",
       "  <thead>\n",
       "    <tr style=\"text-align: right;\">\n",
       "      <th></th>\n",
       "      <th>A</th>\n",
       "      <th>B</th>\n",
       "      <th>C</th>\n",
       "      <th>D</th>\n",
       "    </tr>\n",
       "  </thead>\n",
       "  <tbody>\n",
       "    <tr>\n",
       "      <th>3</th>\n",
       "      <td>-0.152205</td>\n",
       "      <td>-0.121888</td>\n",
       "      <td>0.841658</td>\n",
       "      <td>-1.493958</td>\n",
       "    </tr>\n",
       "    <tr>\n",
       "      <th>4</th>\n",
       "      <td>0.248414</td>\n",
       "      <td>-0.676985</td>\n",
       "      <td>1.326487</td>\n",
       "      <td>-0.455541</td>\n",
       "    </tr>\n",
       "  </tbody>\n",
       "</table>\n",
       "</div>"
      ],
      "text/plain": [
       "          A         B         C         D\n",
       "3 -0.152205 -0.121888  0.841658 -1.493958\n",
       "4  0.248414 -0.676985  1.326487 -0.455541"
      ]
     },
     "execution_count": 18,
     "metadata": {},
     "output_type": "execute_result"
    }
   ],
   "source": [
    "df[3:5]"
   ]
  },
  {
   "cell_type": "code",
   "execution_count": 22,
   "metadata": {
    "collapsed": false
   },
   "outputs": [
    {
     "data": {
      "text/html": [
       "<div>\n",
       "<table border=\"1\" class=\"dataframe\">\n",
       "  <thead>\n",
       "    <tr style=\"text-align: right;\">\n",
       "      <th></th>\n",
       "      <th>A</th>\n",
       "      <th>B</th>\n",
       "      <th>D</th>\n",
       "    </tr>\n",
       "  </thead>\n",
       "  <tbody>\n",
       "    <tr>\n",
       "      <th>0</th>\n",
       "      <td>0.968762</td>\n",
       "      <td>1.501239</td>\n",
       "      <td>-0.456468</td>\n",
       "    </tr>\n",
       "    <tr>\n",
       "      <th>1</th>\n",
       "      <td>1.413471</td>\n",
       "      <td>-0.309746</td>\n",
       "      <td>1.536548</td>\n",
       "    </tr>\n",
       "    <tr>\n",
       "      <th>2</th>\n",
       "      <td>-0.399065</td>\n",
       "      <td>-0.040439</td>\n",
       "      <td>-0.318217</td>\n",
       "    </tr>\n",
       "    <tr>\n",
       "      <th>3</th>\n",
       "      <td>-0.152205</td>\n",
       "      <td>-0.121888</td>\n",
       "      <td>-1.493958</td>\n",
       "    </tr>\n",
       "    <tr>\n",
       "      <th>4</th>\n",
       "      <td>0.248414</td>\n",
       "      <td>-0.676985</td>\n",
       "      <td>-0.455541</td>\n",
       "    </tr>\n",
       "    <tr>\n",
       "      <th>5</th>\n",
       "      <td>0.906221</td>\n",
       "      <td>-2.158694</td>\n",
       "      <td>-0.024769</td>\n",
       "    </tr>\n",
       "  </tbody>\n",
       "</table>\n",
       "</div>"
      ],
      "text/plain": [
       "          A         B         D\n",
       "0  0.968762  1.501239 -0.456468\n",
       "1  1.413471 -0.309746  1.536548\n",
       "2 -0.399065 -0.040439 -0.318217\n",
       "3 -0.152205 -0.121888 -1.493958\n",
       "4  0.248414 -0.676985 -0.455541\n",
       "5  0.906221 -2.158694 -0.024769"
      ]
     },
     "execution_count": 22,
     "metadata": {},
     "output_type": "execute_result"
    }
   ],
   "source": [
    "df[['A', 'B', 'D']]"
   ]
  },
  {
   "cell_type": "code",
   "execution_count": 23,
   "metadata": {
    "collapsed": false
   },
   "outputs": [
    {
     "data": {
      "text/plain": [
       "-0.15220488957687467"
      ]
     },
     "execution_count": 23,
     "metadata": {},
     "output_type": "execute_result"
    }
   ],
   "source": [
    "df.loc[3, 'A']"
   ]
  },
  {
   "cell_type": "code",
   "execution_count": 24,
   "metadata": {
    "collapsed": false
   },
   "outputs": [
    {
     "data": {
      "text/plain": [
       "-0.15220488957687467"
      ]
     },
     "execution_count": 24,
     "metadata": {},
     "output_type": "execute_result"
    }
   ],
   "source": [
    "df.iloc[3, 0]"
   ]
  },
  {
   "cell_type": "code",
   "execution_count": 25,
   "metadata": {
    "collapsed": false
   },
   "outputs": [
    {
     "data": {
      "text/html": [
       "<div>\n",
       "<table border=\"1\" class=\"dataframe\">\n",
       "  <thead>\n",
       "    <tr style=\"text-align: right;\">\n",
       "      <th></th>\n",
       "      <th>A</th>\n",
       "      <th>B</th>\n",
       "    </tr>\n",
       "  </thead>\n",
       "  <tbody>\n",
       "    <tr>\n",
       "      <th>2</th>\n",
       "      <td>-0.399065</td>\n",
       "      <td>-0.040439</td>\n",
       "    </tr>\n",
       "    <tr>\n",
       "      <th>3</th>\n",
       "      <td>-0.152205</td>\n",
       "      <td>-0.121888</td>\n",
       "    </tr>\n",
       "    <tr>\n",
       "      <th>4</th>\n",
       "      <td>0.248414</td>\n",
       "      <td>-0.676985</td>\n",
       "    </tr>\n",
       "  </tbody>\n",
       "</table>\n",
       "</div>"
      ],
      "text/plain": [
       "          A         B\n",
       "2 -0.399065 -0.040439\n",
       "3 -0.152205 -0.121888\n",
       "4  0.248414 -0.676985"
      ]
     },
     "execution_count": 25,
     "metadata": {},
     "output_type": "execute_result"
    }
   ],
   "source": [
    "df.iloc[2:5, 0:2]"
   ]
  },
  {
   "cell_type": "code",
   "execution_count": 28,
   "metadata": {
    "collapsed": false
   },
   "outputs": [
    {
     "data": {
      "text/html": [
       "<div>\n",
       "<table border=\"1\" class=\"dataframe\">\n",
       "  <thead>\n",
       "    <tr style=\"text-align: right;\">\n",
       "      <th></th>\n",
       "      <th>A</th>\n",
       "      <th>B</th>\n",
       "      <th>C</th>\n",
       "      <th>D</th>\n",
       "    </tr>\n",
       "  </thead>\n",
       "  <tbody>\n",
       "    <tr>\n",
       "      <th>1</th>\n",
       "      <td>1.413471</td>\n",
       "      <td>-0.309746</td>\n",
       "      <td>0.407559</td>\n",
       "      <td>1.536548</td>\n",
       "    </tr>\n",
       "    <tr>\n",
       "      <th>2</th>\n",
       "      <td>-0.399065</td>\n",
       "      <td>-0.040439</td>\n",
       "      <td>1.339359</td>\n",
       "      <td>-0.318217</td>\n",
       "    </tr>\n",
       "    <tr>\n",
       "      <th>3</th>\n",
       "      <td>-0.152205</td>\n",
       "      <td>-0.121888</td>\n",
       "      <td>0.841658</td>\n",
       "      <td>-1.493958</td>\n",
       "    </tr>\n",
       "    <tr>\n",
       "      <th>4</th>\n",
       "      <td>0.248414</td>\n",
       "      <td>-0.676985</td>\n",
       "      <td>1.326487</td>\n",
       "      <td>-0.455541</td>\n",
       "    </tr>\n",
       "  </tbody>\n",
       "</table>\n",
       "</div>"
      ],
      "text/plain": [
       "          A         B         C         D\n",
       "1  1.413471 -0.309746  0.407559  1.536548\n",
       "2 -0.399065 -0.040439  1.339359 -0.318217\n",
       "3 -0.152205 -0.121888  0.841658 -1.493958\n",
       "4  0.248414 -0.676985  1.326487 -0.455541"
      ]
     },
     "execution_count": 28,
     "metadata": {},
     "output_type": "execute_result"
    }
   ],
   "source": [
    "df[df.C > 0]"
   ]
  },
  {
   "cell_type": "code",
   "execution_count": 31,
   "metadata": {
    "collapsed": false
   },
   "outputs": [
    {
     "data": {
      "text/html": [
       "<div>\n",
       "<table border=\"1\" class=\"dataframe\">\n",
       "  <thead>\n",
       "    <tr style=\"text-align: right;\">\n",
       "      <th></th>\n",
       "      <th>A</th>\n",
       "      <th>B</th>\n",
       "      <th>C</th>\n",
       "      <th>D</th>\n",
       "      <th>TAG</th>\n",
       "    </tr>\n",
       "  </thead>\n",
       "  <tbody>\n",
       "    <tr>\n",
       "      <th>0</th>\n",
       "      <td>0.968762</td>\n",
       "      <td>1.501239</td>\n",
       "      <td>-0.284952</td>\n",
       "      <td>-0.456468</td>\n",
       "      <td>cat</td>\n",
       "    </tr>\n",
       "    <tr>\n",
       "      <th>1</th>\n",
       "      <td>1.413471</td>\n",
       "      <td>-0.309746</td>\n",
       "      <td>0.407559</td>\n",
       "      <td>1.536548</td>\n",
       "      <td>dog</td>\n",
       "    </tr>\n",
       "    <tr>\n",
       "      <th>2</th>\n",
       "      <td>-0.399065</td>\n",
       "      <td>-0.040439</td>\n",
       "      <td>1.339359</td>\n",
       "      <td>-0.318217</td>\n",
       "      <td>cat</td>\n",
       "    </tr>\n",
       "    <tr>\n",
       "      <th>3</th>\n",
       "      <td>-0.152205</td>\n",
       "      <td>-0.121888</td>\n",
       "      <td>0.841658</td>\n",
       "      <td>-1.493958</td>\n",
       "      <td>cat</td>\n",
       "    </tr>\n",
       "    <tr>\n",
       "      <th>4</th>\n",
       "      <td>0.248414</td>\n",
       "      <td>-0.676985</td>\n",
       "      <td>1.326487</td>\n",
       "      <td>-0.455541</td>\n",
       "      <td>cat</td>\n",
       "    </tr>\n",
       "    <tr>\n",
       "      <th>5</th>\n",
       "      <td>0.906221</td>\n",
       "      <td>-2.158694</td>\n",
       "      <td>-0.201354</td>\n",
       "      <td>-0.024769</td>\n",
       "      <td>dog</td>\n",
       "    </tr>\n",
       "  </tbody>\n",
       "</table>\n",
       "</div>"
      ],
      "text/plain": [
       "          A         B         C         D  TAG\n",
       "0  0.968762  1.501239 -0.284952 -0.456468  cat\n",
       "1  1.413471 -0.309746  0.407559  1.536548  dog\n",
       "2 -0.399065 -0.040439  1.339359 -0.318217  cat\n",
       "3 -0.152205 -0.121888  0.841658 -1.493958  cat\n",
       "4  0.248414 -0.676985  1.326487 -0.455541  cat\n",
       "5  0.906221 -2.158694 -0.201354 -0.024769  dog"
      ]
     },
     "execution_count": 31,
     "metadata": {},
     "output_type": "execute_result"
    }
   ],
   "source": [
    "df[\"TAG\"] = [\"cat\", \"dog\", \"cat\", \"cat\", \"cat\", \"dog\"]\n",
    "df"
   ]
  },
  {
   "cell_type": "code",
   "execution_count": 32,
   "metadata": {
    "collapsed": false
   },
   "outputs": [
    {
     "data": {
      "text/html": [
       "<div>\n",
       "<table border=\"1\" class=\"dataframe\">\n",
       "  <thead>\n",
       "    <tr style=\"text-align: right;\">\n",
       "      <th></th>\n",
       "      <th>A</th>\n",
       "      <th>B</th>\n",
       "      <th>C</th>\n",
       "      <th>D</th>\n",
       "    </tr>\n",
       "    <tr>\n",
       "      <th>TAG</th>\n",
       "      <th></th>\n",
       "      <th></th>\n",
       "      <th></th>\n",
       "      <th></th>\n",
       "    </tr>\n",
       "  </thead>\n",
       "  <tbody>\n",
       "    <tr>\n",
       "      <th>cat</th>\n",
       "      <td>0.665906</td>\n",
       "      <td>0.661926</td>\n",
       "      <td>3.222551</td>\n",
       "      <td>-2.724184</td>\n",
       "    </tr>\n",
       "    <tr>\n",
       "      <th>dog</th>\n",
       "      <td>2.319691</td>\n",
       "      <td>-2.468440</td>\n",
       "      <td>0.206205</td>\n",
       "      <td>1.511778</td>\n",
       "    </tr>\n",
       "  </tbody>\n",
       "</table>\n",
       "</div>"
      ],
      "text/plain": [
       "            A         B         C         D\n",
       "TAG                                        \n",
       "cat  0.665906  0.661926  3.222551 -2.724184\n",
       "dog  2.319691 -2.468440  0.206205  1.511778"
      ]
     },
     "execution_count": 32,
     "metadata": {},
     "output_type": "execute_result"
    }
   ],
   "source": [
    "df.groupby('TAG').sum()"
   ]
  },
  {
   "cell_type": "code",
   "execution_count": 35,
   "metadata": {
    "collapsed": false
   },
   "outputs": [
    {
     "name": "stdout",
     "output_type": "stream",
     "text": [
      "(366,)\n"
     ]
    },
    {
     "data": {
      "text/plain": [
       "2000-01-01   -0.217326\n",
       "2000-01-02    1.848070\n",
       "2000-01-03    0.056948\n",
       "2000-01-04   -0.075779\n",
       "2000-01-05   -0.135918\n",
       "Freq: D, dtype: float64"
      ]
     },
     "execution_count": 35,
     "metadata": {},
     "output_type": "execute_result"
    }
   ],
   "source": [
    "n_items = 366\n",
    "ts = pd.Series(np.random.randn(n_items), index=pd.date_range('20000101', periods=n_items))\n",
    "print(ts.shape)\n",
    "ts.head(5)"
   ]
  },
  {
   "cell_type": "code",
   "execution_count": 41,
   "metadata": {
    "collapsed": false
   },
   "outputs": [
    {
     "data": {
      "text/plain": [
       "2000-01-31    -4.777812\n",
       "2000-02-29    -0.042346\n",
       "2000-03-31    -6.610695\n",
       "2000-04-30    11.046234\n",
       "2000-05-31    -0.826357\n",
       "2000-06-30   -10.103365\n",
       "2000-07-31    -6.783077\n",
       "2000-08-31     8.397547\n",
       "2000-09-30    -0.462282\n",
       "2000-10-31    -9.748931\n",
       "2000-11-30    -2.069168\n",
       "2000-12-31     3.206750\n",
       "Freq: M, dtype: float64"
      ]
     },
     "execution_count": 41,
     "metadata": {},
     "output_type": "execute_result"
    }
   ],
   "source": [
    "ts.resample(\"1m\").sum()"
   ]
  },
  {
   "cell_type": "code",
   "execution_count": 48,
   "metadata": {
    "collapsed": false
   },
   "outputs": [
    {
     "data": {
      "text/plain": [
       "<matplotlib.axes._subplots.AxesSubplot at 0x10ba5b110>"
      ]
     },
     "execution_count": 48,
     "metadata": {},
     "output_type": "execute_result"
    },
    {
     "data": {
      "image/png": "[encoded data removed]",
      "text/plain": [
       "<matplotlib.figure.Figure at 0x10ba65710>"
      ]
     },
     "metadata": {},
     "output_type": "display_data"
    }
   ],
   "source": [
    "plt.figure(figsize=(10, 6), dpi=144)\n",
    "cs = ts.cumsum()\n",
    "cs.plot()"
   ]
  },
  {
   "cell_type": "code",
   "execution_count": 58,
   "metadata": {
    "collapsed": false
   },
   "outputs": [
    {
     "data": {
      "text/plain": [
       "<matplotlib.axes._subplots.AxesSubplot at 0x10e3e7dd0>"
      ]
     },
     "execution_count": 58,
     "metadata": {},
     "output_type": "execute_result"
    },
    {
     "data": {
      "image/png": "[encoded data removed]",
      "text/plain": [
       "<matplotlib.figure.Figure at 0x10e3e7a90>"
      ]
     },
     "metadata": {},
     "output_type": "display_data"
    }
   ],
   "source": [
    "plt.figure(figsize=(10, 6), dpi=144)\n",
    "ts.resample(\"1m\").sum().plot.bar()"
   ]
  },
  {
   "cell_type": "code",
   "execution_count": 60,
   "metadata": {
    "collapsed": true
   },
   "outputs": [],
   "source": [
    "df = pd.DataFrame(np.random.randn(100, 4), columns=list('ABCD'))\n",
    "df.to_csv('data.csv')"
   ]
  },
  {
   "cell_type": "code",
   "execution_count": 61,
   "metadata": {
    "collapsed": false
   },
   "outputs": [
    {
     "name": "stdout",
     "output_type": "stream",
     "text": [
      "(100, 4)\n"
     ]
    },
    {
     "data": {
      "text/html": [
       "<div>\n",
       "<table border=\"1\" class=\"dataframe\">\n",
       "  <thead>\n",
       "    <tr style=\"text-align: right;\">\n",
       "      <th></th>\n",
       "      <th>A</th>\n",
       "      <th>B</th>\n",
       "      <th>C</th>\n",
       "      <th>D</th>\n",
       "    </tr>\n",
       "  </thead>\n",
       "  <tbody>\n",
       "    <tr>\n",
       "      <th>0</th>\n",
       "      <td>1.164909</td>\n",
       "      <td>-1.063255</td>\n",
       "      <td>-0.663549</td>\n",
       "      <td>-0.666168</td>\n",
       "    </tr>\n",
       "    <tr>\n",
       "      <th>1</th>\n",
       "      <td>-2.312503</td>\n",
       "      <td>-0.057273</td>\n",
       "      <td>-2.034563</td>\n",
       "      <td>-0.441740</td>\n",
       "    </tr>\n",
       "    <tr>\n",
       "      <th>2</th>\n",
       "      <td>-0.638638</td>\n",
       "      <td>0.931150</td>\n",
       "      <td>0.131151</td>\n",
       "      <td>0.132221</td>\n",
       "    </tr>\n",
       "    <tr>\n",
       "      <th>3</th>\n",
       "      <td>-0.084752</td>\n",
       "      <td>-0.962613</td>\n",
       "      <td>0.941416</td>\n",
       "      <td>1.543406</td>\n",
       "    </tr>\n",
       "    <tr>\n",
       "      <th>4</th>\n",
       "      <td>-1.324169</td>\n",
       "      <td>-0.916418</td>\n",
       "      <td>0.297872</td>\n",
       "      <td>-1.029558</td>\n",
       "    </tr>\n",
       "  </tbody>\n",
       "</table>\n",
       "</div>"
      ],
      "text/plain": [
       "          A         B         C         D\n",
       "0  1.164909 -1.063255 -0.663549 -0.666168\n",
       "1 -2.312503 -0.057273 -2.034563 -0.441740\n",
       "2 -0.638638  0.931150  0.131151  0.132221\n",
       "3 -0.084752 -0.962613  0.941416  1.543406\n",
       "4 -1.324169 -0.916418  0.297872 -1.029558"
      ]
     },
     "execution_count": 61,
     "metadata": {},
     "output_type": "execute_result"
    }
   ],
   "source": [
    "df = pd.read_csv('data.csv', index_col=0)\n",
    "print(df.shape)\n",
    "df.head(5)"
   ]
  },
  {
   "cell_type": "code",
   "execution_count": null,
   "metadata": {
    "collapsed": true
   },
   "outputs": [],
   "source": []
  }
 ],
 "metadata": {
  "kernelspec": {
   "display_name": "Python 2",
   "language": "python",
   "name": "python2"
  },
  "language_info": {
   "codemirror_mode": {
    "name": "ipython",
    "version": 2
   },
   "file_extension": ".py",
   "mimetype": "text/x-python",
   "name": "python",
   "nbconvert_exporter": "python",
   "pygments_lexer": "ipython2",
   "version": "2.7.10"
  }
 },
 "nbformat": 4,
 "nbformat_minor": 2
}
