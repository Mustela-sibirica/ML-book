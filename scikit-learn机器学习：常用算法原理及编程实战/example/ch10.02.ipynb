{
 "cells": [
  {
   "cell_type": "code",
   "execution_count": 1,
   "metadata": {
    "collapsed": true,
    "deletable": true,
    "editable": true
   },
   "outputs": [],
   "source": [
    "%matplotlib inline\n",
    "import matplotlib.pyplot as plt\n",
    "import numpy as np"
   ]
  },
  {
   "cell_type": "markdown",
   "metadata": {
    "deletable": true,
    "editable": true
   },
   "source": [
    "## PCA 算法模拟"
   ]
  },
  {
   "cell_type": "code",
   "execution_count": 2,
   "metadata": {
    "collapsed": false,
    "deletable": true,
    "editable": true
   },
   "outputs": [
    {
     "data": {
      "text/plain": [
       "array([[ 0.        , -0.33333333],\n",
       "       [-0.25      , -0.16666667],\n",
       "       [ 0.25      ,  0.16666667],\n",
       "       [ 0.5       ,  0.66666667],\n",
       "       [-0.5       , -0.33333333]])"
      ]
     },
     "execution_count": 2,
     "metadata": {},
     "output_type": "execute_result"
    }
   ],
   "source": [
    "A = np.array([[3, 2000], \n",
    "              [2, 3000], \n",
    "              [4, 5000], \n",
    "              [5, 8000], \n",
    "              [1, 2000]], dtype='float')\n",
    "\n",
    "# 数据归一化\n",
    "mean = np.mean(A, axis=0)\n",
    "norm = A - mean\n",
    "# 数据缩放\n",
    "scope = np.max(norm, axis=0) - np.min(norm, axis=0)\n",
    "norm = norm / scope\n",
    "norm"
   ]
  },
  {
   "cell_type": "code",
   "execution_count": 3,
   "metadata": {
    "collapsed": false,
    "deletable": true,
    "editable": true
   },
   "outputs": [
    {
     "data": {
      "text/plain": [
       "array([[-0.67710949, -0.73588229],\n",
       "       [-0.73588229,  0.67710949]])"
      ]
     },
     "execution_count": 3,
     "metadata": {},
     "output_type": "execute_result"
    }
   ],
   "source": [
    "U, S, V = np.linalg.svd(np.dot(norm.T, norm))\n",
    "U"
   ]
  },
  {
   "cell_type": "code",
   "execution_count": 4,
   "metadata": {
    "collapsed": false,
    "deletable": true,
    "editable": true
   },
   "outputs": [
    {
     "data": {
      "text/plain": [
       "array([[-0.67710949],\n",
       "       [-0.73588229]])"
      ]
     },
     "execution_count": 4,
     "metadata": {},
     "output_type": "execute_result"
    }
   ],
   "source": [
    "U_reduce = U[:, 0].reshape(2,1)\n",
    "U_reduce"
   ]
  },
  {
   "cell_type": "code",
   "execution_count": 5,
   "metadata": {
    "collapsed": false,
    "deletable": true,
    "editable": true
   },
   "outputs": [
    {
     "data": {
      "text/plain": [
       "array([[ 0.2452941 ],\n",
       "       [ 0.29192442],\n",
       "       [-0.29192442],\n",
       "       [-0.82914294],\n",
       "       [ 0.58384884]])"
      ]
     },
     "execution_count": 5,
     "metadata": {},
     "output_type": "execute_result"
    }
   ],
   "source": [
    "R = np.dot(norm, U_reduce)\n",
    "R"
   ]
  },
  {
   "cell_type": "code",
   "execution_count": 6,
   "metadata": {
    "collapsed": false,
    "deletable": true,
    "editable": true
   },
   "outputs": [
    {
     "data": {
      "text/plain": [
       "array([[-0.16609096, -0.18050758],\n",
       "       [-0.19766479, -0.21482201],\n",
       "       [ 0.19766479,  0.21482201],\n",
       "       [ 0.56142055,  0.6101516 ],\n",
       "       [-0.39532959, -0.42964402]])"
      ]
     },
     "execution_count": 6,
     "metadata": {},
     "output_type": "execute_result"
    }
   ],
   "source": [
    "Z = np.dot(R, U_reduce.T)\n",
    "Z"
   ]
  },
  {
   "cell_type": "code",
   "execution_count": 7,
   "metadata": {
    "collapsed": false,
    "deletable": true,
    "editable": true
   },
   "outputs": [
    {
     "data": {
      "text/plain": [
       "array([[  2.33563616e+00,   2.91695452e+03],\n",
       "       [  2.20934082e+00,   2.71106794e+03],\n",
       "       [  3.79065918e+00,   5.28893206e+03],\n",
       "       [  5.24568220e+00,   7.66090960e+03],\n",
       "       [  1.41868164e+00,   1.42213588e+03]])"
      ]
     },
     "execution_count": 7,
     "metadata": {},
     "output_type": "execute_result"
    }
   ],
   "source": [
    "np.multiply(Z, scope) + mean"
   ]
  },
  {
   "cell_type": "markdown",
   "metadata": {
    "deletable": true,
    "editable": true
   },
   "source": [
    "## 使用 sklearn 包实现"
   ]
  },
  {
   "cell_type": "code",
   "execution_count": 8,
   "metadata": {
    "collapsed": false,
    "deletable": true,
    "editable": true
   },
   "outputs": [
    {
     "data": {
      "text/plain": [
       "array([[-0.2452941 ],\n",
       "       [-0.29192442],\n",
       "       [ 0.29192442],\n",
       "       [ 0.82914294],\n",
       "       [-0.58384884]])"
      ]
     },
     "execution_count": 8,
     "metadata": {},
     "output_type": "execute_result"
    }
   ],
   "source": [
    "from sklearn.decomposition import PCA\n",
    "from sklearn.pipeline import Pipeline\n",
    "from sklearn.preprocessing import MinMaxScaler\n",
    "\n",
    "def std_PCA(**argv):\n",
    "    scaler = MinMaxScaler()\n",
    "    pca = PCA(**argv)\n",
    "    pipeline = Pipeline([('scaler', scaler),\n",
    "                         ('pca', pca)])\n",
    "    return pipeline\n",
    "\n",
    "pca = std_PCA(n_components=1)\n",
    "R2 = pca.fit_transform(A)\n",
    "R2"
   ]
  },
  {
   "cell_type": "code",
   "execution_count": 9,
   "metadata": {
    "collapsed": false,
    "deletable": true,
    "editable": true
   },
   "outputs": [
    {
     "data": {
      "text/plain": [
       "array([[  2.33563616e+00,   2.91695452e+03],\n",
       "       [  2.20934082e+00,   2.71106794e+03],\n",
       "       [  3.79065918e+00,   5.28893206e+03],\n",
       "       [  5.24568220e+00,   7.66090960e+03],\n",
       "       [  1.41868164e+00,   1.42213588e+03]])"
      ]
     },
     "execution_count": 9,
     "metadata": {},
     "output_type": "execute_result"
    }
   ],
   "source": [
    "pca.inverse_transform(R2)"
   ]
  },
  {
   "cell_type": "markdown",
   "metadata": {
    "deletable": true,
    "editable": true
   },
   "source": [
    "## 降维及恢复示意图"
   ]
  },
  {
   "cell_type": "code",
   "execution_count": 25,
   "metadata": {
    "collapsed": false,
    "deletable": true,
    "editable": true
   },
   "outputs": [
    {
     "data": {
      "text/plain": [
       "<matplotlib.text.Annotation at 0x113511990>"
      ]
     },
     "execution_count": 25,
     "metadata": {},
     "output_type": "execute_result"
    },
    {
     "data": {
      "image/png": "[encoded data removed]",
      "text/plain": [
       "<matplotlib.figure.Figure at 0x1134bdd90>"
      ]
     },
     "metadata": {},
     "output_type": "display_data"
    }
   ],
   "source": [
    "plt.figure(figsize=(8, 8), dpi=144)\n",
    "\n",
    "plt.title('Physcial meanings of PCA')\n",
    "\n",
    "ymin = xmin = -1\n",
    "ymax = xmax = 1\n",
    "plt.xlim(xmin, xmax)\n",
    "plt.ylim(ymin, ymax)\n",
    "ax = plt.gca()                                  # gca 代表当前坐标轴，即 'get current axis'\n",
    "ax.spines['right'].set_color('none')            # 隐藏坐标轴\n",
    "ax.spines['top'].set_color('none')\n",
    "\n",
    "plt.scatter(norm[:, 0], norm[:, 1], marker='s', c='b')\n",
    "plt.scatter(Z[:, 0], Z[:, 1], marker='o', c='r')\n",
    "plt.arrow(0, 0, U[0][0], U[1][0], color='r', linestyle='-')\n",
    "plt.arrow(0, 0, U[0][1], U[1][1], color='r', linestyle='--')\n",
    "plt.annotate(r'$U_{reduce} = u^{(1)}$',\n",
    "             xy=(U[0][0], U[1][0]), xycoords='data',\n",
    "             xytext=(U_reduce[0][0] + 0.2, U_reduce[1][0] - 0.1), fontsize=10,\n",
    "             arrowprops=dict(arrowstyle=\"->\", connectionstyle=\"arc3,rad=.2\"))\n",
    "plt.annotate(r'$u^{(2)}$',\n",
    "             xy=(U[0][1], U[1][1]), xycoords='data',\n",
    "             xytext=(U[0][1] + 0.2, U[1][1] - 0.1), fontsize=10,\n",
    "             arrowprops=dict(arrowstyle=\"->\", connectionstyle=\"arc3,rad=.2\"))\n",
    "plt.annotate(r'raw data',\n",
    "             xy=(norm[0][0], norm[0][1]), xycoords='data',\n",
    "             xytext=(norm[0][0] + 0.2, norm[0][1] - 0.2), fontsize=10,\n",
    "             arrowprops=dict(arrowstyle=\"->\", connectionstyle=\"arc3,rad=.2\"))\n",
    "plt.annotate(r'projected data',\n",
    "             xy=(Z[0][0], Z[0][1]), xycoords='data',\n",
    "             xytext=(Z[0][0] + 0.2, Z[0][1] - 0.1), fontsize=10,\n",
    "             arrowprops=dict(arrowstyle=\"->\", connectionstyle=\"arc3,rad=.2\"))"
   ]
  },
  {
   "cell_type": "code",
   "execution_count": null,
   "metadata": {
    "collapsed": true,
    "deletable": true,
    "editable": true
   },
   "outputs": [],
   "source": []
  }
 ],
 "metadata": {
  "kernelspec": {
   "display_name": "Python 2",
   "language": "python",
   "name": "python2"
  },
  "language_info": {
   "codemirror_mode": {
    "name": "ipython",
    "version": 2
   },
   "file_extension": ".py",
   "mimetype": "text/x-python",
   "name": "python",
   "nbconvert_exporter": "python",
   "pygments_lexer": "ipython2",
   "version": "2.7.10"
  }
 },
 "nbformat": 4,
 "nbformat_minor": 2
}
