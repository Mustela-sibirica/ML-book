{
 "cells": [
  {
   "cell_type": "code",
   "execution_count": 57,
   "metadata": {
    "collapsed": true
   },
   "outputs": [],
   "source": [
    "%matplotlib inline\n",
    "import matplotlib.pyplot as plt\n",
    "import numpy as np"
   ]
  },
  {
   "cell_type": "code",
   "execution_count": 2,
   "metadata": {
    "collapsed": false
   },
   "outputs": [
    {
     "name": "stdout",
     "output_type": "stream",
     "text": [
      "loading documents ...\n",
      "summary: 3949 documents in 4 categories.\n",
      "done in 0.0692269802094 seconds\n"
     ]
    }
   ],
   "source": [
    "from time import time\n",
    "from sklearn.datasets import load_files\n",
    "\n",
    "print(\"loading documents ...\")\n",
    "t = time()\n",
    "docs = load_files('datasets/clustering/data')\n",
    "print(\"summary: {0} documents in {1} categories.\".format(\n",
    "    len(docs.data), len(docs.target_names)))\n",
    "print(\"done in {0} seconds\".format(time() - t))"
   ]
  },
  {
   "cell_type": "code",
   "execution_count": 3,
   "metadata": {
    "collapsed": false
   },
   "outputs": [
    {
     "name": "stdout",
     "output_type": "stream",
     "text": [
      "vectorizing documents ...\n",
      "n_samples: 3949, n_features: 20000\n",
      "number of non-zero features in sample [datasets/clustering/data/sci.electronics/11902-54322]: 56\n",
      "done in 1.22917580605 seconds\n"
     ]
    }
   ],
   "source": [
    "from sklearn.feature_extraction.text import TfidfVectorizer\n",
    "\n",
    "max_features = 20000\n",
    "print(\"vectorizing documents ...\")\n",
    "t = time()\n",
    "vectorizer = TfidfVectorizer(max_df=0.4, \n",
    "                             min_df=2, \n",
    "                             max_features=max_features, \n",
    "                             encoding='latin-1')\n",
    "X = vectorizer.fit_transform((d for d in docs.data))\n",
    "print(\"n_samples: %d, n_features: %d\" % X.shape)\n",
    "print(\"number of non-zero features in sample [{0}]: {1}\".format(\n",
    "    docs.filenames[0], X[0].getnnz()))\n",
    "print(\"done in {0} seconds\".format(time() - t))"
   ]
  },
  {
   "cell_type": "code",
   "execution_count": 9,
   "metadata": {
    "collapsed": false
   },
   "outputs": [
    {
     "name": "stdout",
     "output_type": "stream",
     "text": [
      "clustering documents ...\n",
      "Initialization complete\n",
      "Iteration  0, inertia 7548.338\n",
      "Iteration  1, inertia 3845.294\n",
      "Iteration  2, inertia 3835.689\n",
      "Iteration  3, inertia 3832.981\n",
      "Iteration  4, inertia 3831.389\n",
      "Iteration  5, inertia 3830.634\n",
      "Iteration  6, inertia 3829.925\n",
      "Iteration  7, inertia 3828.363\n",
      "Iteration  8, inertia 3825.850\n",
      "Iteration  9, inertia 3823.059\n",
      "Iteration 10, inertia 3821.834\n",
      "Iteration 11, inertia 3821.499\n",
      "Iteration 12, inertia 3821.272\n",
      "Iteration 13, inertia 3821.124\n",
      "Iteration 14, inertia 3821.076\n",
      "Iteration 15, inertia 3821.041\n",
      "Iteration 16, inertia 3821.025\n",
      "Iteration 17, inertia 3821.018\n",
      "Iteration 18, inertia 3821.016\n",
      "Converged at iteration 18\n",
      "Initialization complete\n",
      "Iteration  0, inertia 7484.695\n",
      "Iteration  1, inertia 3842.812\n",
      "Iteration  2, inertia 3834.243\n",
      "Iteration  3, inertia 3832.220\n",
      "Iteration  4, inertia 3831.228\n",
      "Iteration  5, inertia 3830.460\n",
      "Iteration  6, inertia 3829.684\n",
      "Iteration  7, inertia 3829.119\n",
      "Iteration  8, inertia 3828.739\n",
      "Iteration  9, inertia 3828.421\n",
      "Iteration 10, inertia 3828.105\n",
      "Iteration 11, inertia 3827.798\n",
      "Iteration 12, inertia 3827.573\n",
      "Iteration 13, inertia 3827.385\n",
      "Iteration 14, inertia 3827.224\n",
      "Iteration 15, inertia 3827.130\n",
      "Iteration 16, inertia 3827.038\n",
      "Iteration 17, inertia 3826.962\n",
      "Iteration 18, inertia 3826.895\n",
      "Iteration 19, inertia 3826.837\n",
      "Iteration 20, inertia 3826.795\n",
      "Iteration 21, inertia 3826.742\n",
      "Iteration 22, inertia 3826.721\n",
      "Iteration 23, inertia 3826.701\n",
      "Iteration 24, inertia 3826.682\n",
      "Iteration 25, inertia 3826.662\n",
      "Iteration 26, inertia 3826.645\n",
      "Iteration 27, inertia 3826.636\n",
      "Iteration 28, inertia 3826.630\n",
      "Iteration 29, inertia 3826.622\n",
      "Iteration 30, inertia 3826.606\n",
      "Iteration 31, inertia 3826.593\n",
      "Iteration 32, inertia 3826.579\n",
      "Iteration 33, inertia 3826.542\n",
      "Iteration 34, inertia 3826.473\n",
      "Iteration 35, inertia 3826.378\n",
      "Iteration 36, inertia 3826.259\n",
      "Iteration 37, inertia 3826.121\n",
      "Iteration 38, inertia 3825.971\n",
      "Iteration 39, inertia 3825.829\n",
      "Iteration 40, inertia 3825.670\n",
      "Iteration 41, inertia 3825.513\n",
      "Iteration 42, inertia 3825.301\n",
      "Iteration 43, inertia 3825.133\n",
      "Iteration 44, inertia 3825.054\n",
      "Iteration 45, inertia 3824.959\n",
      "Iteration 46, inertia 3824.850\n",
      "Iteration 47, inertia 3824.770\n",
      "Iteration 48, inertia 3824.595\n",
      "Iteration 49, inertia 3824.319\n",
      "Iteration 50, inertia 3824.240\n",
      "Iteration 51, inertia 3824.227\n",
      "Iteration 52, inertia 3824.223\n",
      "Iteration 53, inertia 3824.217\n",
      "Converged at iteration 53\n",
      "Initialization complete\n",
      "Iteration  0, inertia 7535.568\n",
      "Iteration  1, inertia 3847.240\n",
      "Iteration  2, inertia 3840.400\n",
      "Iteration  3, inertia 3837.062\n",
      "Iteration  4, inertia 3833.757\n",
      "Iteration  5, inertia 3831.272\n",
      "Iteration  6, inertia 3829.425\n",
      "Iteration  7, inertia 3827.824\n",
      "Iteration  8, inertia 3826.606\n",
      "Iteration  9, inertia 3825.735\n",
      "Iteration 10, inertia 3824.929\n",
      "Iteration 11, inertia 3824.042\n",
      "Iteration 12, inertia 3823.493\n",
      "Iteration 13, inertia 3823.259\n",
      "Iteration 14, inertia 3823.127\n",
      "Iteration 15, inertia 3823.023\n",
      "Iteration 16, inertia 3822.958\n",
      "Iteration 17, inertia 3822.878\n",
      "Iteration 18, inertia 3822.733\n",
      "Iteration 19, inertia 3822.588\n",
      "Iteration 20, inertia 3822.445\n",
      "Iteration 21, inertia 3822.406\n",
      "Iteration 22, inertia 3822.391\n",
      "Iteration 23, inertia 3822.389\n",
      "Converged at iteration 23\n",
      "kmean: k=4, cost=3821\n",
      "done in 2.81433701515 seconds\n"
     ]
    }
   ],
   "source": [
    "from sklearn.cluster import KMeans\n",
    "\n",
    "print(\"clustering documents ...\")\n",
    "t = time()\n",
    "n_clusters = 4\n",
    "kmean = KMeans(n_clusters=n_clusters, \n",
    "               max_iter=100,\n",
    "               tol=0.01,\n",
    "               verbose=1,\n",
    "               n_init=3)\n",
    "kmean.fit(X);\n",
    "print(\"kmean: k={}, cost={}\".format(n_clusters, int(kmean.inertia_)))\n",
    "print(\"done in {0} seconds\".format(time() - t))"
   ]
  },
  {
   "cell_type": "code",
   "execution_count": 15,
   "metadata": {
    "collapsed": false
   },
   "outputs": [
    {
     "data": {
      "text/plain": [
       "3949"
      ]
     },
     "execution_count": 15,
     "metadata": {},
     "output_type": "execute_result"
    }
   ],
   "source": [
    "len(kmean.labels_)"
   ]
  },
  {
   "cell_type": "code",
   "execution_count": 50,
   "metadata": {
    "collapsed": false
   },
   "outputs": [
    {
     "data": {
      "text/plain": [
       "array([1, 1, 1, 0, 3, 0, 3, 1, 0, 0], dtype=int32)"
      ]
     },
     "execution_count": 50,
     "metadata": {},
     "output_type": "execute_result"
    }
   ],
   "source": [
    "kmean.labels_[1000:1010]"
   ]
  },
  {
   "cell_type": "code",
   "execution_count": 51,
   "metadata": {
    "collapsed": false
   },
   "outputs": [
    {
     "data": {
      "text/plain": [
       "array(['datasets/clustering/data/sci.crypt/10888-15289',\n",
       "       'datasets/clustering/data/sci.crypt/11490-15880',\n",
       "       'datasets/clustering/data/sci.crypt/11270-15346',\n",
       "       'datasets/clustering/data/sci.electronics/12383-53525',\n",
       "       'datasets/clustering/data/sci.space/13826-60862',\n",
       "       'datasets/clustering/data/sci.electronics/11631-54106',\n",
       "       'datasets/clustering/data/sci.space/14235-61437',\n",
       "       'datasets/clustering/data/sci.crypt/11508-15928',\n",
       "       'datasets/clustering/data/sci.space/13593-60824',\n",
       "       'datasets/clustering/data/sci.electronics/12304-52801'], \n",
       "      dtype='|S52')"
      ]
     },
     "execution_count": 51,
     "metadata": {},
     "output_type": "execute_result"
    }
   ],
   "source": [
    "docs.filenames[1000:1010]"
   ]
  },
  {
   "cell_type": "code",
   "execution_count": 52,
   "metadata": {
    "collapsed": false
   },
   "outputs": [
    {
     "name": "stdout",
     "output_type": "stream",
     "text": [
      "Top terms per cluster:\n",
      "Cluster 0: my any me by know your some do so has\n",
      "Cluster 1: key clipper chip encryption government keys will escrow we by\n",
      "Cluster 2: pat digex access hst prb net mission shuttle steve servicing\n",
      "Cluster 3: space henry nasa toronto moon zoo spencer launch gov alaska\n"
     ]
    }
   ],
   "source": [
    "from __future__ import print_function\n",
    "\n",
    "print(\"Top terms per cluster:\")\n",
    "\n",
    "order_centroids = kmean.cluster_centers_.argsort()[:, ::-1]\n",
    "\n",
    "terms = vectorizer.get_feature_names()\n",
    "for i in range(n_clusters):\n",
    "    print(\"Cluster %d:\" % i, end='')\n",
    "    for ind in order_centroids[i, :10]:\n",
    "        print(' %s' % terms[ind], end='')\n",
    "    print()"
   ]
  },
  {
   "cell_type": "code",
   "execution_count": 53,
   "metadata": {
    "collapsed": false
   },
   "outputs": [
    {
     "data": {
      "text/plain": [
       "array([[3, 2, 0, 1],\n",
       "       [3, 1, 2, 0],\n",
       "       [1, 2, 3, 0]])"
      ]
     },
     "execution_count": 53,
     "metadata": {},
     "output_type": "execute_result"
    }
   ],
   "source": [
    "a = np.array([[20, 10, 30, 40], [100, 300, 200, 400], [1, 5, 3, 2]])\n",
    "a.argsort()[:, ::-1]"
   ]
  },
  {
   "cell_type": "code",
   "execution_count": 54,
   "metadata": {
    "collapsed": false
   },
   "outputs": [
    {
     "data": {
      "text/plain": [
       "array([3, 1, 2, 0])"
      ]
     },
     "execution_count": 54,
     "metadata": {},
     "output_type": "execute_result"
    }
   ],
   "source": [
    "a = np.array([10, 30, 20, 40])\n",
    "a.argsort()[::-1]"
   ]
  },
  {
   "cell_type": "code",
   "execution_count": 86,
   "metadata": {
    "collapsed": false
   },
   "outputs": [
    {
     "name": "stdout",
     "output_type": "stream",
     "text": [
      "Adjusted Rand-Index for random sample: -0.023\n",
      "Adjusted Rand-Index for same structure sample: 1.000\n"
     ]
    }
   ],
   "source": [
    "from sklearn import metrics\n",
    "\n",
    "label_true = np.random.randint(1, 4, 6)\n",
    "label_pred = np.random.randint(1, 4, 6)\n",
    "print(\"Adjusted Rand-Index for random sample: %.3f\"\n",
    "      % metrics.adjusted_rand_score(label_true, label_pred))\n",
    "label_true = [1, 1, 3, 3, 2, 2]\n",
    "label_pred = [3, 3, 2, 2, 1, 1]\n",
    "print(\"Adjusted Rand-Index for same structure sample: %.3f\"\n",
    "      % metrics.adjusted_rand_score(label_true, label_pred))"
   ]
  },
  {
   "cell_type": "code",
   "execution_count": 109,
   "metadata": {
    "collapsed": false
   },
   "outputs": [
    {
     "name": "stdout",
     "output_type": "stream",
     "text": [
      "Homogeneity score for same structure sample: 1.000\n",
      "Homogeneity score for each cluster come from only one class: 1.000\n",
      "Homogeneity score for each cluster come from two class: 0.000\n",
      "Homogeneity score for random sample: 0.633\n"
     ]
    }
   ],
   "source": [
    "from sklearn import metrics\n",
    "\n",
    "label_true = [1, 1, 2, 2]\n",
    "label_pred = [2, 2, 1, 1]\n",
    "print(\"Homogeneity score for same structure sample: %.3f\"\n",
    "      % metrics.homogeneity_score(label_true, label_pred))\n",
    "label_true = [1, 1, 2, 2]\n",
    "label_pred = [0, 1, 2, 3]\n",
    "print(\"Homogeneity score for each cluster come from only one class: %.3f\"\n",
    "      % metrics.homogeneity_score(label_true, label_pred))\n",
    "label_true = [1, 1, 2, 2]\n",
    "label_pred = [1, 2, 1, 2]\n",
    "print(\"Homogeneity score for each cluster come from two class: %.3f\"\n",
    "      % metrics.homogeneity_score(label_true, label_pred))\n",
    "label_true = np.random.randint(1, 4, 6)\n",
    "label_pred = np.random.randint(1, 4, 6)\n",
    "print(\"Homogeneity score for random sample: %.3f\"\n",
    "      % metrics.homogeneity_score(label_true, label_pred))"
   ]
  },
  {
   "cell_type": "code",
   "execution_count": 116,
   "metadata": {
    "collapsed": false
   },
   "outputs": [
    {
     "name": "stdout",
     "output_type": "stream",
     "text": [
      "Completeness score for same structure sample: 1.000\n",
      "Completeness score for each class assign to only one cluster: 1.000\n",
      "Completeness score for each class assign to two class: 0.000\n",
      "Completeness score for random sample: 0.159\n"
     ]
    }
   ],
   "source": [
    "from sklearn import metrics\n",
    "\n",
    "label_true = [1, 1, 2, 2]\n",
    "label_pred = [2, 2, 1, 1]\n",
    "print(\"Completeness score for same structure sample: %.3f\"\n",
    "      % metrics.completeness_score(label_true, label_pred))\n",
    "label_true = [0, 1, 2, 3]\n",
    "label_pred = [1, 1, 2, 2]\n",
    "print(\"Completeness score for each class assign to only one cluster: %.3f\"\n",
    "      % metrics.completeness_score(label_true, label_pred))\n",
    "label_true = [1, 1, 2, 2]\n",
    "label_pred = [1, 2, 1, 2]\n",
    "print(\"Completeness score for each class assign to two class: %.3f\"\n",
    "      % metrics.completeness_score(label_true, label_pred))\n",
    "label_true = np.random.randint(1, 4, 6)\n",
    "label_pred = np.random.randint(1, 4, 6)\n",
    "print(\"Completeness score for random sample: %.3f\"\n",
    "      % metrics.completeness_score(label_true, label_pred))"
   ]
  },
  {
   "cell_type": "code",
   "execution_count": 119,
   "metadata": {
    "collapsed": false
   },
   "outputs": [
    {
     "name": "stdout",
     "output_type": "stream",
     "text": [
      "V-measure score for same structure sample: 1.000\n",
      "V-measure score for each class assign to only one cluster: 0.667\n",
      "V-measure score for each class assign to only one cluster: 0.667\n",
      "V-measure score for each class assign to two class: 0.000\n"
     ]
    }
   ],
   "source": [
    "from sklearn import metrics\n",
    "\n",
    "label_true = [1, 1, 2, 2]\n",
    "label_pred = [2, 2, 1, 1]\n",
    "print(\"V-measure score for same structure sample: %.3f\"\n",
    "      % metrics.v_measure_score(label_true, label_pred))\n",
    "label_true = [0, 1, 2, 3]\n",
    "label_pred = [1, 1, 2, 2]\n",
    "print(\"V-measure score for each class assign to only one cluster: %.3f\"\n",
    "      % metrics.v_measure_score(label_true, label_pred))\n",
    "print(\"V-measure score for each class assign to only one cluster: %.3f\"\n",
    "      % metrics.v_measure_score(label_pred, label_true))\n",
    "label_true = [1, 1, 2, 2]\n",
    "label_pred = [1, 2, 1, 2]\n",
    "print(\"V-measure score for each class assign to two class: %.3f\"\n",
    "      % metrics.v_measure_score(label_true, label_pred))"
   ]
  },
  {
   "cell_type": "code",
   "execution_count": 121,
   "metadata": {
    "collapsed": false
   },
   "outputs": [
    {
     "name": "stdout",
     "output_type": "stream",
     "text": [
      "Homogeneity: 0.351\n",
      "Completeness: 0.505\n",
      "V-measure: 0.414\n",
      "Adjusted Rand-Index: 0.228\n",
      "Silhouette Coefficient: 0.004\n"
     ]
    }
   ],
   "source": [
    "from sklearn import metrics\n",
    "\n",
    "labels = docs.target\n",
    "print(\"Homogeneity: %0.3f\" % metrics.homogeneity_score(labels, kmean.labels_))\n",
    "print(\"Completeness: %0.3f\" % metrics.completeness_score(labels, kmean.labels_))\n",
    "print(\"V-measure: %0.3f\" % metrics.v_measure_score(labels, kmean.labels_))\n",
    "print(\"Adjusted Rand-Index: %.3f\"\n",
    "      % metrics.adjusted_rand_score(labels, kmean.labels_))\n",
    "print(\"Silhouette Coefficient: %0.3f\"\n",
    "      % metrics.silhouette_score(X, kmean.labels_, sample_size=1000))"
   ]
  }
 ],
 "metadata": {
  "kernelspec": {
   "display_name": "Python 2",
   "language": "python",
   "name": "python2"
  },
  "language_info": {
   "codemirror_mode": {
    "name": "ipython",
    "version": 2
   },
   "file_extension": ".py",
   "mimetype": "text/x-python",
   "name": "python",
   "nbconvert_exporter": "python",
   "pygments_lexer": "ipython2",
   "version": "2.7.10"
  }
 },
 "nbformat": 4,
 "nbformat_minor": 2
}
